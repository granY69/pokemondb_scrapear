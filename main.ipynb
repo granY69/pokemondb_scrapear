{
 "cells": [
  {
   "cell_type": "code",
   "execution_count": 49,
   "id": "71bb33d3-1bd4-4347-8e25-7651f2c2443a",
   "metadata": {},
   "outputs": [],
   "source": [
    "from selenium import webdriver\n",
    "from selenium.webdriver.common.by import By\n",
    "import pandas as pd"
   ]
  },
  {
   "cell_type": "code",
   "execution_count": 3,
   "id": "c8e5ee93",
   "metadata": {},
   "outputs": [],
   "source": [
    "url = \"https://pokemondb.net/pokedex/all\""
   ]
  },
  {
   "cell_type": "code",
   "execution_count": 4,
   "id": "cadaabe7-9d17-47b3-8ad4-2bc3c5b92d4d",
   "metadata": {},
   "outputs": [],
   "source": [
    "driver = webdriver.Chrome(\"C:\\webDriver\\chromedriver.exe\")\n",
    "driver.get(url)"
   ]
  },
  {
   "cell_type": "code",
   "execution_count": 25,
   "id": "5c67ebc4-d990-4f07-a5c8-8eb3a88afa15",
   "metadata": {},
   "outputs": [],
   "source": [
    "#names\n",
    "names = driver.find_elements(By.XPATH, '//td[@class=\"cell-name\"]')\n",
    "\n",
    "# Type\n",
    "types = driver.find_elements(By.XPATH, '//td[@class=\"cell-icon\"]')\n",
    "\n",
    "# Total\n",
    "totals = driver.find_elements(By.XPATH, '//td[@class=\"cell-total\"]')\n",
    "\n",
    "# HP\n",
    "hps = driver.find_elements(By.XPATH, '//td[@class=\"cell-total\"]/following-sibling::td[1]')\n",
    "\n",
    "# Attack\n",
    "attacks = driver.find_elements(By.XPATH, '//td[@class=\"cell-total\"]/following-sibling::td[2]')\n",
    "\n",
    "# Defense\n",
    "defenses = driver.find_elements(By.XPATH, '//td[@class=\"cell-total\"]/following-sibling::td[3]')\n",
    "\n",
    "# Sp. Atk\n",
    "sp_atks = driver.find_elements(By.XPATH, '//td[@class=\"cell-total\"]/following-sibling::td[4]')\n",
    "\n",
    "# Sp. Def\n",
    "sp_defs = driver.find_elements(By.XPATH, '//td[@class=\"cell-total\"]/following-sibling::td[5]')\n",
    "\n",
    "# Speed\n",
    "speeds = driver.find_elements(By.XPATH, '//td[@class=\"cell-total\"]/following-sibling::td[6]')\n"
   ]
  },
  {
   "cell_type": "code",
   "execution_count": 52,
   "id": "f7661d33",
   "metadata": {},
   "outputs": [],
   "source": [
    "pokemon_list = []"
   ]
  },
  {
   "cell_type": "code",
   "execution_count": 53,
   "id": "a155b128",
   "metadata": {},
   "outputs": [],
   "source": [
    "for i in range(len(names)):\n",
    "    pokemon_dict = {\n",
    "    \"name\" : names[i].text,\n",
    "    \"type\" : types[i].text,\n",
    "    \"total\" : totals[i].text,\n",
    "    \"hp\" : hps[i].text,\n",
    "    \"attack\" : attacks[i].text,\n",
    "    \"defense\" : defenses[i].text,\n",
    "    \"sp_atk\" : sp_atks[i].text,\n",
    "    \"sp_def\" : sp_defs[i].text,\n",
    "    \"speed\" : speeds[i].text,\n",
    "    }\n",
    "    pokemon_list.append(pokemon_dict)"
   ]
  },
  {
   "cell_type": "code",
   "execution_count": 54,
   "id": "e3e25c9f",
   "metadata": {},
   "outputs": [
    {
     "data": {
      "text/plain": [
       "1075"
      ]
     },
     "execution_count": 54,
     "metadata": {},
     "output_type": "execute_result"
    }
   ],
   "source": [
    "len(pokemon_list)"
   ]
  },
  {
   "cell_type": "code",
   "execution_count": 55,
   "id": "5e38904b",
   "metadata": {},
   "outputs": [],
   "source": [
    "df = pd.DataFrame(pokemon_list)"
   ]
  },
  {
   "cell_type": "code",
   "execution_count": 56,
   "id": "80dffa9a",
   "metadata": {},
   "outputs": [
    {
     "data": {
      "text/html": [
       "<div>\n",
       "<style scoped>\n",
       "    .dataframe tbody tr th:only-of-type {\n",
       "        vertical-align: middle;\n",
       "    }\n",
       "\n",
       "    .dataframe tbody tr th {\n",
       "        vertical-align: top;\n",
       "    }\n",
       "\n",
       "    .dataframe thead th {\n",
       "        text-align: right;\n",
       "    }\n",
       "</style>\n",
       "<table border=\"1\" class=\"dataframe\">\n",
       "  <thead>\n",
       "    <tr style=\"text-align: right;\">\n",
       "      <th></th>\n",
       "      <th>names</th>\n",
       "      <th>types</th>\n",
       "      <th>totals</th>\n",
       "      <th>hps</th>\n",
       "      <th>attacks</th>\n",
       "      <th>defenses</th>\n",
       "      <th>sp_atks</th>\n",
       "      <th>sp_defs</th>\n",
       "      <th>speeds</th>\n",
       "    </tr>\n",
       "  </thead>\n",
       "  <tbody>\n",
       "    <tr>\n",
       "      <th>0</th>\n",
       "      <td>Bulbasaur</td>\n",
       "      <td>GRASS\\nPOISON</td>\n",
       "      <td>318</td>\n",
       "      <td>45</td>\n",
       "      <td>49</td>\n",
       "      <td>49</td>\n",
       "      <td>65</td>\n",
       "      <td>65</td>\n",
       "      <td>45</td>\n",
       "    </tr>\n",
       "    <tr>\n",
       "      <th>1</th>\n",
       "      <td>Ivysaur</td>\n",
       "      <td>GRASS\\nPOISON</td>\n",
       "      <td>405</td>\n",
       "      <td>60</td>\n",
       "      <td>62</td>\n",
       "      <td>63</td>\n",
       "      <td>80</td>\n",
       "      <td>80</td>\n",
       "      <td>60</td>\n",
       "    </tr>\n",
       "    <tr>\n",
       "      <th>2</th>\n",
       "      <td>Venusaur</td>\n",
       "      <td>GRASS\\nPOISON</td>\n",
       "      <td>525</td>\n",
       "      <td>80</td>\n",
       "      <td>82</td>\n",
       "      <td>83</td>\n",
       "      <td>100</td>\n",
       "      <td>100</td>\n",
       "      <td>80</td>\n",
       "    </tr>\n",
       "    <tr>\n",
       "      <th>3</th>\n",
       "      <td>Venusaur\\nMega Venusaur</td>\n",
       "      <td>GRASS\\nPOISON</td>\n",
       "      <td>625</td>\n",
       "      <td>80</td>\n",
       "      <td>100</td>\n",
       "      <td>123</td>\n",
       "      <td>122</td>\n",
       "      <td>120</td>\n",
       "      <td>80</td>\n",
       "    </tr>\n",
       "    <tr>\n",
       "      <th>4</th>\n",
       "      <td>Charmander</td>\n",
       "      <td>FIRE</td>\n",
       "      <td>309</td>\n",
       "      <td>39</td>\n",
       "      <td>52</td>\n",
       "      <td>43</td>\n",
       "      <td>60</td>\n",
       "      <td>50</td>\n",
       "      <td>65</td>\n",
       "    </tr>\n",
       "  </tbody>\n",
       "</table>\n",
       "</div>"
      ],
      "text/plain": [
       "                     names          types totals hps attacks defenses sp_atks  \\\n",
       "0                Bulbasaur  GRASS\\nPOISON    318  45      49       49      65   \n",
       "1                  Ivysaur  GRASS\\nPOISON    405  60      62       63      80   \n",
       "2                 Venusaur  GRASS\\nPOISON    525  80      82       83     100   \n",
       "3  Venusaur\\nMega Venusaur  GRASS\\nPOISON    625  80     100      123     122   \n",
       "4               Charmander           FIRE    309  39      52       43      60   \n",
       "\n",
       "  sp_defs speeds  \n",
       "0      65     45  \n",
       "1      80     60  \n",
       "2     100     80  \n",
       "3     120     80  \n",
       "4      50     65  "
      ]
     },
     "execution_count": 56,
     "metadata": {},
     "output_type": "execute_result"
    }
   ],
   "source": [
    "df.head()"
   ]
  },
  {
   "cell_type": "code",
   "execution_count": 57,
   "id": "4d63ba26",
   "metadata": {},
   "outputs": [],
   "source": [
    "df[\"names\"] = df[\"names\"].apply(lambda x: x.replace('\\n', ' '))\n",
    "df[\"types\"] = df[\"types\"].apply(lambda x: x.replace('\\n', ', '))"
   ]
  },
  {
   "cell_type": "code",
   "execution_count": 58,
   "id": "1fd60c62",
   "metadata": {},
   "outputs": [
    {
     "data": {
      "text/html": [
       "<div>\n",
       "<style scoped>\n",
       "    .dataframe tbody tr th:only-of-type {\n",
       "        vertical-align: middle;\n",
       "    }\n",
       "\n",
       "    .dataframe tbody tr th {\n",
       "        vertical-align: top;\n",
       "    }\n",
       "\n",
       "    .dataframe thead th {\n",
       "        text-align: right;\n",
       "    }\n",
       "</style>\n",
       "<table border=\"1\" class=\"dataframe\">\n",
       "  <thead>\n",
       "    <tr style=\"text-align: right;\">\n",
       "      <th></th>\n",
       "      <th>names</th>\n",
       "      <th>types</th>\n",
       "      <th>totals</th>\n",
       "      <th>hps</th>\n",
       "      <th>attacks</th>\n",
       "      <th>defenses</th>\n",
       "      <th>sp_atks</th>\n",
       "      <th>sp_defs</th>\n",
       "      <th>speeds</th>\n",
       "    </tr>\n",
       "  </thead>\n",
       "  <tbody>\n",
       "    <tr>\n",
       "      <th>0</th>\n",
       "      <td>Bulbasaur</td>\n",
       "      <td>GRASS, POISON</td>\n",
       "      <td>318</td>\n",
       "      <td>45</td>\n",
       "      <td>49</td>\n",
       "      <td>49</td>\n",
       "      <td>65</td>\n",
       "      <td>65</td>\n",
       "      <td>45</td>\n",
       "    </tr>\n",
       "    <tr>\n",
       "      <th>1</th>\n",
       "      <td>Ivysaur</td>\n",
       "      <td>GRASS, POISON</td>\n",
       "      <td>405</td>\n",
       "      <td>60</td>\n",
       "      <td>62</td>\n",
       "      <td>63</td>\n",
       "      <td>80</td>\n",
       "      <td>80</td>\n",
       "      <td>60</td>\n",
       "    </tr>\n",
       "    <tr>\n",
       "      <th>2</th>\n",
       "      <td>Venusaur</td>\n",
       "      <td>GRASS, POISON</td>\n",
       "      <td>525</td>\n",
       "      <td>80</td>\n",
       "      <td>82</td>\n",
       "      <td>83</td>\n",
       "      <td>100</td>\n",
       "      <td>100</td>\n",
       "      <td>80</td>\n",
       "    </tr>\n",
       "    <tr>\n",
       "      <th>3</th>\n",
       "      <td>Venusaur Mega Venusaur</td>\n",
       "      <td>GRASS, POISON</td>\n",
       "      <td>625</td>\n",
       "      <td>80</td>\n",
       "      <td>100</td>\n",
       "      <td>123</td>\n",
       "      <td>122</td>\n",
       "      <td>120</td>\n",
       "      <td>80</td>\n",
       "    </tr>\n",
       "    <tr>\n",
       "      <th>4</th>\n",
       "      <td>Charmander</td>\n",
       "      <td>FIRE</td>\n",
       "      <td>309</td>\n",
       "      <td>39</td>\n",
       "      <td>52</td>\n",
       "      <td>43</td>\n",
       "      <td>60</td>\n",
       "      <td>50</td>\n",
       "      <td>65</td>\n",
       "    </tr>\n",
       "  </tbody>\n",
       "</table>\n",
       "</div>"
      ],
      "text/plain": [
       "                    names          types totals hps attacks defenses sp_atks  \\\n",
       "0               Bulbasaur  GRASS, POISON    318  45      49       49      65   \n",
       "1                 Ivysaur  GRASS, POISON    405  60      62       63      80   \n",
       "2                Venusaur  GRASS, POISON    525  80      82       83     100   \n",
       "3  Venusaur Mega Venusaur  GRASS, POISON    625  80     100      123     122   \n",
       "4              Charmander           FIRE    309  39      52       43      60   \n",
       "\n",
       "  sp_defs speeds  \n",
       "0      65     45  \n",
       "1      80     60  \n",
       "2     100     80  \n",
       "3     120     80  \n",
       "4      50     65  "
      ]
     },
     "execution_count": 58,
     "metadata": {},
     "output_type": "execute_result"
    }
   ],
   "source": [
    "df.head()"
   ]
  },
  {
   "cell_type": "code",
   "execution_count": 59,
   "id": "870d08a2",
   "metadata": {},
   "outputs": [],
   "source": [
    "df.to_excel('dataset.xlsx', index=False)"
   ]
  }
 ],
 "metadata": {
  "kernelspec": {
   "display_name": "Python 3.9.12 ('base')",
   "language": "python",
   "name": "python3"
  },
  "language_info": {
   "codemirror_mode": {
    "name": "ipython",
    "version": 3
   },
   "file_extension": ".py",
   "mimetype": "text/x-python",
   "name": "python",
   "nbconvert_exporter": "python",
   "pygments_lexer": "ipython3",
   "version": "3.9.12"
  },
  "vscode": {
   "interpreter": {
    "hash": "1a5f7b9b4551dfa9c41b8d6e322ea30487c6fe7b230c06ff511e48aa23dc6fa9"
   }
  }
 },
 "nbformat": 4,
 "nbformat_minor": 5
}
